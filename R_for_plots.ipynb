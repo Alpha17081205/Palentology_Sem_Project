{
  "nbformat": 4,
  "nbformat_minor": 0,
  "metadata": {
    "colab": {
      "name": "R for plots.ipynb",
      "provenance": [],
      "collapsed_sections": [],
      "authorship_tag": "ABX9TyNacUGd/4xFly6frIUF6wiF",
      "include_colab_link": true
    },
    "kernelspec": {
      "name": "python3",
      "display_name": "Python 3"
    },
    "language_info": {
      "name": "python"
    }
  },
  "cells": [
    {
      "cell_type": "markdown",
      "metadata": {
        "id": "view-in-github",
        "colab_type": "text"
      },
      "source": [
        "<a href=\"https://colab.research.google.com/github/Alpha17081205/Palentology_Sem_Project/blob/main/R_for_plots.ipynb\" target=\"_parent\"><img src=\"https://colab.research.google.com/assets/colab-badge.svg\" alt=\"Open In Colab\"/></a>"
      ]
    },
    {
      "cell_type": "code",
      "metadata": {
        "id": "lxhFQ3nBSFIc"
      },
      "source": [
        "import csv\n",
        "import numpy as np\n",
        "import scipy as sci\n",
        "from math import *\n",
        "import pandas as pd\n",
        "from random import shuffle\n",
        "import scipy.spatial\n",
        "import xml"
      ],
      "execution_count": null,
      "outputs": []
    },
    {
      "cell_type": "markdown",
      "metadata": {
        "id": "WZF2lp0qWrnk"
      },
      "source": [
        "You can find the data set at: http://paleobiodb.org/data1.2/occs/list.csv?datainfo&rowcount&max_ma=542&min_ma=251&show=timebins)"
      ]
    },
    {
      "cell_type": "code",
      "metadata": {
        "colab": {
          "base_uri": "https://localhost:8080/"
        },
        "id": "Fmlju67lSMW7",
        "outputId": "90608aaf-a9ae-4ae6-e134-7a98d6e1e5e5"
      },
      "source": [
        "PBDB_data = \"pbdb_data time binning.csv\" \n",
        "data = pd.read_csv( \"pbdb_data time binning.csv\",error_bad_lines=False)\n",
        "Time_bins= data[\"time_bins\"].tolist()\n",
        "Species = data[\"accepted_name\"].tolist()\n",
        "print(len(Time_bins),len(Species))"
      ],
      "execution_count": null,
      "outputs": [
        {
          "output_type": "stream",
          "name": "stderr",
          "text": [
            "b'Skipping line 9698: expected 18 fields, saw 20\\n'\n",
            "/usr/local/lib/python3.7/dist-packages/IPython/core/interactiveshell.py:2718: DtypeWarning: Columns (7,11,16) have mixed types.Specify dtype option on import or set low_memory=False.\n",
            "  interactivity=interactivity, compiler=compiler, result=result)\n"
          ]
        },
        {
          "output_type": "stream",
          "name": "stdout",
          "text": [
            "542012 542012\n"
          ]
        }
      ]
    },
    {
      "cell_type": "code",
      "metadata": {
        "colab": {
          "base_uri": "https://localhost:8080/"
        },
        "id": "NgcN1kUqYyeb",
        "outputId": "ee07d5a4-362c-4905-94ae-840dffd90df1"
      },
      "source": [
        "\n",
        "def unique_values(counts):\n",
        "    unique = []\n",
        "    for count in counts:\n",
        "        if count not in unique:\n",
        "            unique.append(count)\n",
        "    return unique\n",
        "\n",
        "Unique_bins= unique_values(Time_bins)\n",
        "print(len(Unique_bins))\n"
      ],
      "execution_count": null,
      "outputs": [
        {
          "output_type": "stream",
          "name": "stdout",
          "text": [
            "50\n"
          ]
        }
      ]
    },
    {
      "cell_type": "code",
      "metadata": {
        "colab": {
          "base_uri": "https://localhost:8080/",
          "height": 128
        },
        "id": "AE0GBQLSY7NQ",
        "outputId": "cf385323-cd8b-4e95-a1a8-6b0c095c13c0"
      },
      "source": [
        "\n",
        "--NotebookApp.iopub_data_rate_limit= 1.0e7\n",
        "bins_list={}\n",
        "for bin in Unique_bins:\n",
        "  species_list=[]\n",
        "  for i in range(len(Species)):\n",
        "    if Time_bins[i] == bin:\n",
        "      species_list.append(Species[i])\n",
        "      bins_list[bin]=species_list\n",
        "print(bins_list)\n",
        "\n"
      ],
      "execution_count": null,
      "outputs": [
        {
          "output_type": "error",
          "ename": "SyntaxError",
          "evalue": "ignored",
          "traceback": [
            "\u001b[0;36m  File \u001b[0;32m\"<ipython-input-48-b4f3da120a26>\"\u001b[0;36m, line \u001b[0;32m2\u001b[0m\n\u001b[0;31m    --NotebookApp.iopub_data_rate_limit= 1.0e7\u001b[0m\n\u001b[0m                                              ^\u001b[0m\n\u001b[0;31mSyntaxError\u001b[0m\u001b[0;31m:\u001b[0m can't assign to operator\n"
          ]
        }
      ]
    },
    {
      "cell_type": "code",
      "metadata": {
        "id": "1v8ybMX9aDw8"
      },
      "source": [
        ""
      ],
      "execution_count": null,
      "outputs": []
    }
  ]
}