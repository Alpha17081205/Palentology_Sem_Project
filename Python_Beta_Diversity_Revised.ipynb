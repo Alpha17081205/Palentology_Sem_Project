{
  "nbformat": 4,
  "nbformat_minor": 0,
  "metadata": {
    "colab": {
      "name": "Python Beta Diversity.ipynb",
      "provenance": [],
      "collapsed_sections": []
    },
    "kernelspec": {
      "display_name": "Python 3",
      "name": "python3"
    },
    "language_info": {
      "name": "python"
    }
  },
  "cells": [
    {
      "cell_type": "markdown",
      "metadata": {
        "id": "XgbsXMl_yyOh"
      },
      "source": [
        "Install all needed libraries"
      ]
    },
    {
      "cell_type": "code",
      "metadata": {
        "id": "MCvR2ROyu0E7"
      },
      "source": [
        "import csv\n",
        "import numpy as np\n",
        "import scipy as sci\n",
        "from math import *\n",
        "import pandas as pd\n",
        "from random import shuffle\n",
        "import scipy.spatial\n",
        "import xml"
      ],
      "execution_count": 101,
      "outputs": []
    },
    {
      "cell_type": "markdown",
      "metadata": {
        "id": "ateyft58Wg4Y"
      },
      "source": [
        "I have shared the datafile with this python notebook. You can upload the data file using the Files features in the left options bar."
      ]
    },
    {
      "cell_type": "code",
      "metadata": {
        "id": "N4VfSGRny6tA"
      },
      "source": [
        "PBDB_data= \"beta Cambrian Bivalvia_data.csv\" #uploading data"
      ],
      "execution_count": 102,
      "outputs": []
    },
    {
      "cell_type": "code",
      "metadata": {
        "id": "RsMsyo3BzJgZ"
      },
      "source": [
        "Fields=[]\n",
        "Observations=[]"
      ],
      "execution_count": 103,
      "outputs": []
    },
    {
      "cell_type": "code",
      "metadata": {
        "colab": {
          "base_uri": "https://localhost:8080/"
        },
        "id": "lYS_lTndzTry",
        "outputId": "2c8f1107-cc90-4983-d2d8-4ef1636fe130"
      },
      "source": [
        "# reading csv file\n",
        "with open(PBDB_data, 'r') as csvfile:\n",
        "    # creating a csv reader object\n",
        "    csvreader = csv.reader(csvfile)\n",
        "    \n",
        "      \n",
        "    # extracting field names through first row\n",
        "    Fields = next(csvreader)\n",
        "  \n",
        "    parsed_csv = list(csvreader)\n",
        "\n",
        "    # extracting each data row one by one\n",
        "    for Observation in parsed_csv:\n",
        "        Observations.append(Observation)\n",
        "  \n",
        "    # get total number of rows\n",
        "    print(\"Total no. of rows (Including the title row): %d\"%(csvreader.line_num))\n",
        "    # get Titles from the columns\n",
        "    print('Field names are:' + ', '.join(Field for Field in Fields))"
      ],
      "execution_count": 104,
      "outputs": [
        {
          "output_type": "stream",
          "text": [
            "Total no. of rows (Including the title row): 83\n",
            "Field names are:accepted_name, lithdescript, lithology1, environment, geology_comments\n"
          ],
          "name": "stdout"
        }
      ]
    },
    {
      "cell_type": "code",
      "metadata": {
        "id": "a1MTpxfUUT7M"
      },
      "source": [
        "#seperating all the lists into indiviual list\n",
        "data = pd.read_csv(\"beta Cambrian Bivalvia_data.csv\")\n",
        "\n",
        "name = data['accepted_name'].tolist()\n",
        "LithDescription = data['lithdescript'].tolist()\n",
        "lithology = data['lithology1'].tolist()\n",
        "Enivornment = data['environment'].tolist()\n",
        "more_comments = data['geology_comments'].tolist()\n",
        "\n",
        "#print('Species Names:', name)\n",
        "#print('Lithology:',lithology)\n",
        "#print('Enivornment:', Enivornment)\n",
        "#print('Comments about lithology', more_comments)\n",
        "#print('Decription of lithology:', LithDescription)"
      ],
      "execution_count": 105,
      "outputs": []
    },
    {
      "cell_type": "code",
      "metadata": {
        "colab": {
          "base_uri": "https://localhost:8080/"
        },
        "id": "Y70Pnqb1UUCs",
        "outputId": "81b5cbaa-8fdd-4d43-a96e-e675386f46cd"
      },
      "source": [
        "#get unique values from each list\n",
        "\n",
        "def unique_values(counts):\n",
        "    unique = []\n",
        "    for count in counts:\n",
        "        if count not in unique:\n",
        "            unique.append(count)\n",
        "    return unique\n",
        "\n",
        "\n",
        "Uni_litho=unique_values(lithology) #get uniques values from lithology list\n",
        "Uni_Species=unique_values(name)\n",
        "Uni_Enivornment=unique_values(Enivornment)\n",
        "print(Uni_litho)\n",
        "print(Uni_Species)\n",
        "print(Uni_Enivornment)"
      ],
      "execution_count": 106,
      "outputs": [
        {
          "output_type": "stream",
          "text": [
            "['wackestone', '\"limestone\"', '\"shale\"', 'siltstone', 'dolomite', 'packstone', 'framestone', 'lime mudstone']\n",
            "['Fordilla troyensis', 'Fordilla germanica', 'Pojetaia runnegari', 'Pojetaia dentifera']\n",
            "['peritidal', 'carbonate indet.', 'marine indet.', 'offshore', 'slope', 'deep subtidal indet.', 'shallow subtidal indet.', 'reef, buildup or bioherm']\n"
          ],
          "name": "stdout"
        }
      ]
    },
    {
      "cell_type": "code",
      "metadata": {
        "colab": {
          "base_uri": "https://localhost:8080/",
          "height": 172
        },
        "id": "ru897M-J4pBi",
        "outputId": "f1b43e98-696d-458c-d7ae-5bcbc38fcaef"
      },
      "source": [
        "#get Preence-Abscence Matrix for the data with actual no. of occurences\n",
        "\n",
        "Samples_L= np.arange(0,len(lithology))\n",
        "dict = {\"Indiviual\": Samples_L,'Species': name, 'Lithology': lithology, 'Enivornment': Enivornment}\n",
        "\n",
        "df1 = pd.DataFrame(dict) #creating panda dataframe of the data\n",
        "    \n",
        "df1\n",
        "#print(df1)\n",
        "df1['Species'] = df1['Indiviual'].map(df1.set_index('Indiviual')['Species'])\n",
        "g = df1.groupby('Species')['Lithology'].apply(list).reset_index()\n",
        "\n",
        "g_sample= g.join(pd.get_dummies(g['Lithology']\\\n",
        " .apply(pd.Series).stack()).sum(level=0)).drop('Lithology', 1)\n",
        "\n",
        "g_sample\n",
        "#print(dict)"
      ],
      "execution_count": 107,
      "outputs": [
        {
          "output_type": "execute_result",
          "data": {
            "text/html": [
              "<div>\n",
              "<style scoped>\n",
              "    .dataframe tbody tr th:only-of-type {\n",
              "        vertical-align: middle;\n",
              "    }\n",
              "\n",
              "    .dataframe tbody tr th {\n",
              "        vertical-align: top;\n",
              "    }\n",
              "\n",
              "    .dataframe thead th {\n",
              "        text-align: right;\n",
              "    }\n",
              "</style>\n",
              "<table border=\"1\" class=\"dataframe\">\n",
              "  <thead>\n",
              "    <tr style=\"text-align: right;\">\n",
              "      <th></th>\n",
              "      <th>Species</th>\n",
              "      <th>\"limestone\"</th>\n",
              "      <th>\"shale\"</th>\n",
              "      <th>dolomite</th>\n",
              "      <th>framestone</th>\n",
              "      <th>lime mudstone</th>\n",
              "      <th>packstone</th>\n",
              "      <th>siltstone</th>\n",
              "      <th>wackestone</th>\n",
              "    </tr>\n",
              "  </thead>\n",
              "  <tbody>\n",
              "    <tr>\n",
              "      <th>0</th>\n",
              "      <td>Fordilla germanica</td>\n",
              "      <td>1</td>\n",
              "      <td>0</td>\n",
              "      <td>0</td>\n",
              "      <td>0</td>\n",
              "      <td>0</td>\n",
              "      <td>0</td>\n",
              "      <td>0</td>\n",
              "      <td>0</td>\n",
              "    </tr>\n",
              "    <tr>\n",
              "      <th>1</th>\n",
              "      <td>Fordilla troyensis</td>\n",
              "      <td>3</td>\n",
              "      <td>1</td>\n",
              "      <td>0</td>\n",
              "      <td>0</td>\n",
              "      <td>0</td>\n",
              "      <td>0</td>\n",
              "      <td>0</td>\n",
              "      <td>1</td>\n",
              "    </tr>\n",
              "    <tr>\n",
              "      <th>2</th>\n",
              "      <td>Pojetaia dentifera</td>\n",
              "      <td>0</td>\n",
              "      <td>0</td>\n",
              "      <td>0</td>\n",
              "      <td>0</td>\n",
              "      <td>1</td>\n",
              "      <td>0</td>\n",
              "      <td>0</td>\n",
              "      <td>0</td>\n",
              "    </tr>\n",
              "    <tr>\n",
              "      <th>3</th>\n",
              "      <td>Pojetaia runnegari</td>\n",
              "      <td>43</td>\n",
              "      <td>4</td>\n",
              "      <td>2</td>\n",
              "      <td>2</td>\n",
              "      <td>0</td>\n",
              "      <td>15</td>\n",
              "      <td>1</td>\n",
              "      <td>8</td>\n",
              "    </tr>\n",
              "  </tbody>\n",
              "</table>\n",
              "</div>"
            ],
            "text/plain": [
              "              Species  \"limestone\"  \"shale\"  ...  packstone  siltstone  wackestone\n",
              "0  Fordilla germanica            1        0  ...          0          0           0\n",
              "1  Fordilla troyensis            3        1  ...          0          0           1\n",
              "2  Pojetaia dentifera            0        0  ...          0          0           0\n",
              "3  Pojetaia runnegari           43        4  ...         15          1           8\n",
              "\n",
              "[4 rows x 9 columns]"
            ]
          },
          "metadata": {},
          "execution_count": 107
        }
      ]
    },
    {
      "cell_type": "code",
      "metadata": {
        "colab": {
          "base_uri": "https://localhost:8080/"
        },
        "id": "8WwGi9LS10P6",
        "outputId": "c9f28cc4-23f0-4355-eea5-131e57479429"
      },
      "source": [
        "ab2 = g_sample.iloc[:,1:]\n",
        "ab1 = ab2.to_numpy()\n",
        "print(ab1)\n",
        "#print(ab2)"
      ],
      "execution_count": 108,
      "outputs": [
        {
          "output_type": "stream",
          "text": [
            "[[ 1  0  0  0  0  0  0  0]\n",
            " [ 3  1  0  0  0  0  0  1]\n",
            " [ 0  0  0  0  1  0  0  0]\n",
            " [43  4  2  2  0 15  1  8]]\n"
          ],
          "name": "stdout"
        }
      ]
    },
    {
      "cell_type": "code",
      "metadata": {
        "colab": {
          "base_uri": "https://localhost:8080/"
        },
        "id": "S67fR5svdeRl",
        "outputId": "53bd09dc-e294-4269-d645-60cbff735d72"
      },
      "source": [
        "#get Presence-Abscence matrix with Binary values (Boolean values)\n",
        "#IF the species is present then the value is 1 and if absent , then 0\n",
        "\n",
        "ab = g_sample\n",
        "ab.loc[ab['\"shale\"']>1,'\"shale\"']=1\n",
        "ab.loc[ab['\"limestone\"']>1,'\"limestone\"']=1\n",
        "ab.loc[ab['dolomite']>1,'dolomite']=1\n",
        "ab.loc[ab['framestone']>1,'framestone']=1\n",
        "ab.loc[ab['lime mudstone']>1,'lime mudstone']=1\n",
        "ab.loc[ab['packstone']>1,'packstone']=1\n",
        "ab.loc[ab['siltstone']>1,'siltstone']=1\n",
        "ab.loc[ab['wackestone']>1,'wackestone']=1\n",
        "\n",
        "ab\n",
        "ab2_pa = ab.iloc[:,1:]\n",
        "ab1_pa = ab2_pa.to_numpy()\n",
        "print(ab1_pa)\n",
        "#print(ab2)"
      ],
      "execution_count": 109,
      "outputs": [
        {
          "output_type": "stream",
          "text": [
            "[[1 0 0 0 0 0 0 0]\n",
            " [1 1 0 0 0 0 0 1]\n",
            " [0 0 0 0 1 0 0 0]\n",
            " [1 1 1 1 0 1 1 1]]\n"
          ],
          "name": "stdout"
        }
      ]
    },
    {
      "cell_type": "code",
      "metadata": {
        "colab": {
          "base_uri": "https://localhost:8080/"
        },
        "id": "AS9aD6wnFuJ-",
        "outputId": "fb45c89e-6b5f-4f3c-ded2-1a1a3e5eb5da"
      },
      "source": [
        "#get Bray-Curtis Disimilarity number for the data\n",
        "\n",
        "\n",
        "Pre_abs_matrix_bray_curtis = np.ones([8,8])\n",
        "\n",
        "q=0\n",
        "s=0\n",
        "for q in range(len(ab1[0])):\n",
        "  for s in range(len(ab1[0])):\n",
        "    #print([row[q] for row in ab1],[row[s] for row in ab1])\n",
        "    Bray_Curtis_number = scipy.spatial.distance.braycurtis([row[q] for row in ab1],[row[s] for row in ab1])\n",
        "    Pre_abs_matrix_bray_curtis[s,q] = Bray_Curtis_number\n",
        "\n",
        "print(Pre_abs_matrix_bray_curtis)\n"
      ],
      "execution_count": 110,
      "outputs": [
        {
          "output_type": "stream",
          "text": [
            "[[0.         0.80769231 0.91836735 0.91836735 1.         0.51612903\n",
            "  0.95833333 0.67857143]\n",
            " [0.80769231 0.         0.42857143 0.42857143 1.         0.6\n",
            "  0.66666667 0.28571429]\n",
            " [0.91836735 0.42857143 0.         0.         1.         0.76470588\n",
            "  0.33333333 0.63636364]\n",
            " [0.91836735 0.42857143 0.         0.         1.         0.76470588\n",
            "  0.33333333 0.63636364]\n",
            " [1.         1.         1.         1.         0.         1.\n",
            "  1.         1.        ]\n",
            " [0.51612903 0.6        0.76470588 0.76470588 1.         0.\n",
            "  0.875      0.33333333]\n",
            " [0.95833333 0.66666667 0.33333333 0.33333333 1.         0.875\n",
            "  0.         0.8       ]\n",
            " [0.67857143 0.28571429 0.63636364 0.63636364 1.         0.33333333\n",
            "  0.8        0.        ]]\n"
          ],
          "name": "stdout"
        }
      ]
    },
    {
      "cell_type": "markdown",
      "metadata": {
        "id": "Ty5ML0Ldtmdm"
      },
      "source": [
        "The Bray-Curtis dissimilarity is always a number between 0 and 1. \n",
        "If 0, the two sites share all the same species; if 1, they don’t share any species."
      ]
    },
    {
      "cell_type": "code",
      "metadata": {
        "colab": {
          "base_uri": "https://localhost:8080/"
        },
        "id": "dEb5Yqz_fKww",
        "outputId": "e315ae47-8c2d-4adc-9b09-ebec5182d741"
      },
      "source": [
        "Pre_abs_matrix_jaccard = np.ones([8,8])\n",
        "\n",
        "q=0\n",
        "s=0\n",
        "for q in range(len(ab1_pa[0])):\n",
        "  for s in range(len(ab1_pa[0])):\n",
        "    jaccard_number = scipy.spatial.distance.jaccard([row[q] for row in ab1_pa],[row[s] for row in ab1_pa]) # \n",
        "    Pre_abs_matrix_jaccard[s,q] = (1-jaccard_number)*100\n",
        "\n",
        "print(Pre_abs_matrix_jaccard)"
      ],
      "execution_count": 111,
      "outputs": [
        {
          "output_type": "stream",
          "text": [
            "[[100.          66.66666667  33.33333333  33.33333333   0.\n",
            "   33.33333333  33.33333333  66.66666667]\n",
            " [ 66.66666667 100.          50.          50.           0.\n",
            "   50.          50.         100.        ]\n",
            " [ 33.33333333  50.         100.         100.           0.\n",
            "  100.         100.          50.        ]\n",
            " [ 33.33333333  50.         100.         100.           0.\n",
            "  100.         100.          50.        ]\n",
            " [  0.           0.           0.           0.         100.\n",
            "    0.           0.           0.        ]\n",
            " [ 33.33333333  50.         100.         100.           0.\n",
            "  100.         100.          50.        ]\n",
            " [ 33.33333333  50.         100.         100.           0.\n",
            "  100.         100.          50.        ]\n",
            " [ 66.66666667 100.          50.          50.           0.\n",
            "   50.          50.         100.        ]]\n"
          ],
          "name": "stdout"
        }
      ]
    },
    {
      "cell_type": "markdown",
      "metadata": {
        "id": "FBcbGo270iwc"
      },
      "source": [
        "The output values are in percentage"
      ]
    },
    {
      "cell_type": "markdown",
      "metadata": {
        "id": "7eKhHNWagyWb"
      },
      "source": [
        "100 % - they share same species\n",
        "50 % - two enivornment share half species\n",
        "0 % - Dont sare any kind of species"
      ]
    },
    {
      "cell_type": "code",
      "metadata": {
        "colab": {
          "base_uri": "https://localhost:8080/",
          "height": 222
        },
        "id": "Y5KvNd-pldJp",
        "outputId": "e4a8696f-6f59-4cf6-9419-b3af2e957cc5"
      },
      "source": [
        "#DIFFERENT ENIVORNMENTS\n",
        "\n",
        "#get Preence-Abscence Matrix for the data with actual no. of occurences\n",
        "\n",
        "Samples_L= np.arange(0,len(lithology))\n",
        "dict = {\"Indiviual\": Samples_L,'Species': name, 'Lithology': lithology, 'Enivornment': Enivornment}\n",
        "\n",
        "df1 = pd.DataFrame(dict) #creating panda dataframe of the data\n",
        "    \n",
        "df1\n",
        "#print(df1)\n",
        "df1['Species'] = df1['Indiviual'].map(df1.set_index('Indiviual')['Species'])\n",
        "g = df1.groupby('Species')['Enivornment'].apply(list).reset_index()\n",
        "\n",
        "g_sample_2= g.join(pd.get_dummies(g['Enivornment']\\\n",
        " .apply(pd.Series).stack()).sum(level=0)).drop('Enivornment', 1)\n",
        "\n",
        "g_sample_2\n",
        "#print(dict)"
      ],
      "execution_count": 112,
      "outputs": [
        {
          "output_type": "execute_result",
          "data": {
            "text/html": [
              "<div>\n",
              "<style scoped>\n",
              "    .dataframe tbody tr th:only-of-type {\n",
              "        vertical-align: middle;\n",
              "    }\n",
              "\n",
              "    .dataframe tbody tr th {\n",
              "        vertical-align: top;\n",
              "    }\n",
              "\n",
              "    .dataframe thead th {\n",
              "        text-align: right;\n",
              "    }\n",
              "</style>\n",
              "<table border=\"1\" class=\"dataframe\">\n",
              "  <thead>\n",
              "    <tr style=\"text-align: right;\">\n",
              "      <th></th>\n",
              "      <th>Species</th>\n",
              "      <th>carbonate indet.</th>\n",
              "      <th>deep subtidal indet.</th>\n",
              "      <th>marine indet.</th>\n",
              "      <th>offshore</th>\n",
              "      <th>peritidal</th>\n",
              "      <th>reef, buildup or bioherm</th>\n",
              "      <th>shallow subtidal indet.</th>\n",
              "      <th>slope</th>\n",
              "    </tr>\n",
              "  </thead>\n",
              "  <tbody>\n",
              "    <tr>\n",
              "      <th>0</th>\n",
              "      <td>Fordilla germanica</td>\n",
              "      <td>0</td>\n",
              "      <td>0</td>\n",
              "      <td>0</td>\n",
              "      <td>0</td>\n",
              "      <td>1</td>\n",
              "      <td>0</td>\n",
              "      <td>0</td>\n",
              "      <td>0</td>\n",
              "    </tr>\n",
              "    <tr>\n",
              "      <th>1</th>\n",
              "      <td>Fordilla troyensis</td>\n",
              "      <td>3</td>\n",
              "      <td>0</td>\n",
              "      <td>1</td>\n",
              "      <td>0</td>\n",
              "      <td>1</td>\n",
              "      <td>0</td>\n",
              "      <td>0</td>\n",
              "      <td>0</td>\n",
              "    </tr>\n",
              "    <tr>\n",
              "      <th>2</th>\n",
              "      <td>Pojetaia dentifera</td>\n",
              "      <td>1</td>\n",
              "      <td>0</td>\n",
              "      <td>0</td>\n",
              "      <td>0</td>\n",
              "      <td>0</td>\n",
              "      <td>0</td>\n",
              "      <td>0</td>\n",
              "      <td>0</td>\n",
              "    </tr>\n",
              "    <tr>\n",
              "      <th>3</th>\n",
              "      <td>Pojetaia runnegari</td>\n",
              "      <td>59</td>\n",
              "      <td>2</td>\n",
              "      <td>3</td>\n",
              "      <td>1</td>\n",
              "      <td>0</td>\n",
              "      <td>8</td>\n",
              "      <td>1</td>\n",
              "      <td>1</td>\n",
              "    </tr>\n",
              "  </tbody>\n",
              "</table>\n",
              "</div>"
            ],
            "text/plain": [
              "              Species  carbonate indet.  ...  shallow subtidal indet.  slope\n",
              "0  Fordilla germanica                 0  ...                        0      0\n",
              "1  Fordilla troyensis                 3  ...                        0      0\n",
              "2  Pojetaia dentifera                 1  ...                        0      0\n",
              "3  Pojetaia runnegari                59  ...                        1      1\n",
              "\n",
              "[4 rows x 9 columns]"
            ]
          },
          "metadata": {},
          "execution_count": 112
        }
      ]
    },
    {
      "cell_type": "code",
      "metadata": {
        "id": "jkIT70NEm17v"
      },
      "source": [
        "ab2 = g_sample_2.iloc[:,1:]\n",
        "ab1 = ab2.to_numpy()\n",
        "#print(ab1)\n",
        "#print(ab2)\n"
      ],
      "execution_count": 113,
      "outputs": []
    },
    {
      "cell_type": "code",
      "metadata": {
        "colab": {
          "base_uri": "https://localhost:8080/"
        },
        "id": "DwEWKtDWommv",
        "outputId": "ae932a32-53b2-4c9c-9cef-8f9d36888159"
      },
      "source": [
        "#get Presence-Abscence matrix with Binary values (Boolean values)\n",
        "#IF the species is present then the value is 1 and if absent , then 0\n",
        "\n",
        "ab = g_sample_2\n",
        "ab.loc[ab['peritidal']>1,'peritidal']=1\n",
        "ab.loc[ab['carbonate indet.']>1,'carbonate indet.']=1\n",
        "ab.loc[ab['marine indet.']>1,'marine indet.']=1\n",
        "ab.loc[ab['offshore']>1,'offshore']=1\n",
        "ab.loc[ab['slope']>1,'slope']=1\n",
        "ab.loc[ab['deep subtidal indet.']>1,'deep subtidal indet.']=1\n",
        "ab.loc[ab['shallow subtidal indet.']>1,'shallow subtidal indet.']=1\n",
        "ab.loc[ab['reef, buildup or bioherm']>1,'reef, buildup or bioherm']=1\n",
        "\n",
        "ab\n",
        "ab2_pa_2 = ab.iloc[:,1:]\n",
        "ab1_pa_2 = ab2_pa_2.to_numpy()\n",
        "print(ab1_pa)\n",
        "#print(ab2)\n"
      ],
      "execution_count": 114,
      "outputs": [
        {
          "output_type": "stream",
          "text": [
            "[[1 0 0 0 0 0 0 0]\n",
            " [1 1 0 0 0 0 0 1]\n",
            " [0 0 0 0 1 0 0 0]\n",
            " [1 1 1 1 0 1 1 1]]\n"
          ],
          "name": "stdout"
        }
      ]
    },
    {
      "cell_type": "code",
      "metadata": {
        "colab": {
          "base_uri": "https://localhost:8080/"
        },
        "id": "kxbtBG4Rotb-",
        "outputId": "61e12b64-3315-452d-eb71-f7e81530c620"
      },
      "source": [
        "#get Bray-Curtis Disimilarity number for the data\n",
        "\n",
        "\n",
        "Pre_abs_matrix_bray_curtis_2 = np.ones([8,8])\n",
        "\n",
        "q=0\n",
        "s=0\n",
        "for q in range(len(ab1[0])):\n",
        "  for s in range(len(ab1[0])):\n",
        "    #print(q)\n",
        "    Bray_Curtis_number = scipy.spatial.distance.braycurtis([row[q] for row in ab1],[row[s] for row in ab1])\n",
        "    Pre_abs_matrix_bray_curtis_2[s,q] = Bray_Curtis_number\n",
        "\n",
        "print(Pre_abs_matrix_bray_curtis_2)"
      ],
      "execution_count": 115,
      "outputs": [
        {
          "output_type": "stream",
          "text": [
            "[[0.         0.93846154 0.88059701 0.96875    0.96923077 0.77464789\n",
            "  0.96875    0.96875   ]\n",
            " [0.93846154 0.         0.33333333 0.33333333 1.         0.6\n",
            "  0.33333333 0.33333333]\n",
            " [0.88059701 0.33333333 0.         0.6        0.66666667 0.5\n",
            "  0.6        0.6       ]\n",
            " [0.96875    0.33333333 0.6        0.         1.         0.77777778\n",
            "  0.         0.        ]\n",
            " [0.96923077 1.         0.66666667 1.         0.         1.\n",
            "  1.         1.        ]\n",
            " [0.77464789 0.6        0.5        0.77777778 1.         0.\n",
            "  0.77777778 0.77777778]\n",
            " [0.96875    0.33333333 0.6        0.         1.         0.77777778\n",
            "  0.         0.        ]\n",
            " [0.96875    0.33333333 0.6        0.         1.         0.77777778\n",
            "  0.         0.        ]]\n"
          ],
          "name": "stdout"
        }
      ]
    },
    {
      "cell_type": "code",
      "metadata": {
        "colab": {
          "base_uri": "https://localhost:8080/"
        },
        "id": "oqzL_1TXovwO",
        "outputId": "920609a0-0263-4e94-b66f-ccf1dd9b34ae"
      },
      "source": [
        "Pre_abs_matrix_jaccard_2 = np.ones([8,8])\n",
        "\n",
        "q=0\n",
        "s=0\n",
        "for q in range(len(ab1_pa_2[0])):\n",
        "  for s in range(len(ab1_pa_2[0])):\n",
        "    jaccard_number_2 = scipy.spatial.distance.jaccard([row[q] for row in ab1_pa_2],[row[s] for row in ab1_pa_2]) \n",
        "    Pre_abs_matrix_jaccard_2[s,q] = (1-jaccard_number_2)*100\n",
        "\n",
        "print(Pre_abs_matrix_jaccard_2)"
      ],
      "execution_count": 116,
      "outputs": [
        {
          "output_type": "stream",
          "text": [
            "[[100.          33.33333333  66.66666667  33.33333333  25.\n",
            "   33.33333333  33.33333333  33.33333333]\n",
            " [ 33.33333333 100.          50.         100.           0.\n",
            "  100.         100.         100.        ]\n",
            " [ 66.66666667  50.         100.          50.          33.33333333\n",
            "   50.          50.          50.        ]\n",
            " [ 33.33333333 100.          50.         100.           0.\n",
            "  100.         100.         100.        ]\n",
            " [ 25.           0.          33.33333333   0.         100.\n",
            "    0.           0.           0.        ]\n",
            " [ 33.33333333 100.          50.         100.           0.\n",
            "  100.         100.         100.        ]\n",
            " [ 33.33333333 100.          50.         100.           0.\n",
            "  100.         100.         100.        ]\n",
            " [ 33.33333333 100.          50.         100.           0.\n",
            "  100.         100.         100.        ]]\n"
          ],
          "name": "stdout"
        }
      ]
    },
    {
      "cell_type": "code",
      "metadata": {
        "id": "UuXtRDCSo0ov"
      },
      "source": [
        ""
      ],
      "execution_count": 116,
      "outputs": []
    }
  ]
}